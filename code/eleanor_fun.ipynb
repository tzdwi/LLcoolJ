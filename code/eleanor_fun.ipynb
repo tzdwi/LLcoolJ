{
 "cells": [
  {
   "cell_type": "code",
   "execution_count": 1,
   "metadata": {},
   "outputs": [],
   "source": [
    "import eleanor\n",
    "import numpy as np\n",
    "import matplotlib.pyplot as plt\n",
    "\n",
    "%matplotlib inline"
   ]
  },
  {
   "cell_type": "code",
   "execution_count": 2,
   "metadata": {},
   "outputs": [],
   "source": [
    "#hv2112 = eleanor.Source(coords=(17.51606752920, -72.61461256551))\n",
    "#sdor = eleanor.Source(tic=179305185)\n",
    "m41412 = eleanor.Source(coords=(17.51606752920, -72.61461256551))"
   ]
  },
  {
   "cell_type": "code",
   "execution_count": 3,
   "metadata": {},
   "outputs": [
    {
     "data": {
      "image/png": "[encoded data removed]",
      "text/plain": [
       "<Figure size 576x576 with 2 Axes>"
      ]
     },
     "metadata": {
      "needs_background": "light"
     },
     "output_type": "display_data"
    },
    {
     "ename": "IndexError",
     "evalue": "list index out of range",
     "output_type": "error",
     "traceback": [
      "\u001b[0;31m---------------------------------------------------------------------------\u001b[0m",
      "\u001b[0;31mIndexError\u001b[0m                                Traceback (most recent call last)",
      "\u001b[0;32m<ipython-input-3-9d790315b422>\u001b[0m in \u001b[0;36m<module>\u001b[0;34m()\u001b[0m\n\u001b[0;32m----> 1\u001b[0;31m \u001b[0mdata\u001b[0m \u001b[0;34m=\u001b[0m \u001b[0meleanor\u001b[0m\u001b[0;34m.\u001b[0m\u001b[0mTargetData\u001b[0m\u001b[0;34m(\u001b[0m\u001b[0mhv2112\u001b[0m\u001b[0;34m,\u001b[0m \u001b[0mheight\u001b[0m\u001b[0;34m=\u001b[0m\u001b[0;36m15\u001b[0m\u001b[0;34m,\u001b[0m \u001b[0mbkg_size\u001b[0m\u001b[0;34m=\u001b[0m\u001b[0;36m31\u001b[0m\u001b[0;34m,\u001b[0m \u001b[0mcrowded_field\u001b[0m\u001b[0;34m=\u001b[0m\u001b[0;32mTrue\u001b[0m\u001b[0;34m,\u001b[0m \u001b[0mwidth\u001b[0m\u001b[0;34m=\u001b[0m\u001b[0;36m15\u001b[0m\u001b[0;34m,\u001b[0m \u001b[0mdo_psf\u001b[0m\u001b[0;34m=\u001b[0m\u001b[0;32mTrue\u001b[0m\u001b[0;34m,\u001b[0m \u001b[0mdo_pca\u001b[0m\u001b[0;34m=\u001b[0m\u001b[0;32mTrue\u001b[0m\u001b[0;34m)\u001b[0m\u001b[0;34m\u001b[0m\u001b[0m\n\u001b[0m",
      "\u001b[0;32m~/anaconda/lib/python3.5/site-packages/eleanor-0.1.8-py3.5.egg/eleanor/targetdata.py\u001b[0m in \u001b[0;36m__init__\u001b[0;34m(self, source, height, width, save_postcard, do_pca, do_psf, bkg_size, crowded_field, cal_cadences)\u001b[0m\n\u001b[1;32m    159\u001b[0m             \u001b[0mself\u001b[0m\u001b[0;34m.\u001b[0m\u001b[0mcreate_apertures\u001b[0m\u001b[0;34m(\u001b[0m\u001b[0mheight\u001b[0m\u001b[0;34m,\u001b[0m \u001b[0mwidth\u001b[0m\u001b[0;34m)\u001b[0m\u001b[0;34m\u001b[0m\u001b[0m\n\u001b[1;32m    160\u001b[0m \u001b[0;34m\u001b[0m\u001b[0m\n\u001b[0;32m--> 161\u001b[0;31m             \u001b[0mself\u001b[0m\u001b[0;34m.\u001b[0m\u001b[0mget_lightcurve\u001b[0m\u001b[0;34m(\u001b[0m\u001b[0;34m)\u001b[0m\u001b[0;34m\u001b[0m\u001b[0m\n\u001b[0m\u001b[1;32m    162\u001b[0m             \u001b[0;32mif\u001b[0m \u001b[0mdo_pca\u001b[0m \u001b[0;34m==\u001b[0m \u001b[0;32mTrue\u001b[0m\u001b[0;34m:\u001b[0m\u001b[0;34m\u001b[0m\u001b[0m\n\u001b[1;32m    163\u001b[0m                 \u001b[0mself\u001b[0m\u001b[0;34m.\u001b[0m\u001b[0mpca\u001b[0m\u001b[0;34m(\u001b[0m\u001b[0;34m)\u001b[0m\u001b[0;34m\u001b[0m\u001b[0m\n",
      "\u001b[0;32m~/anaconda/lib/python3.5/site-packages/eleanor-0.1.8-py3.5.egg/eleanor/targetdata.py\u001b[0m in \u001b[0;36mget_lightcurve\u001b[0;34m(self, aperture)\u001b[0m\n\u001b[1;32m    422\u001b[0m \u001b[0;34m\u001b[0m\u001b[0m\n\u001b[1;32m    423\u001b[0m             \u001b[0;32mfor\u001b[0m \u001b[0mepoch\u001b[0m \u001b[0;32min\u001b[0m \u001b[0mrange\u001b[0m\u001b[0;34m(\u001b[0m\u001b[0mlen\u001b[0m\u001b[0;34m(\u001b[0m\u001b[0mself\u001b[0m\u001b[0;34m.\u001b[0m\u001b[0mtime\u001b[0m\u001b[0;34m)\u001b[0m\u001b[0;34m)\u001b[0m\u001b[0;34m:\u001b[0m\u001b[0;34m\u001b[0m\u001b[0m\n\u001b[0;32m--> 424\u001b[0;31m                 \u001b[0mself\u001b[0m\u001b[0;34m.\u001b[0m\u001b[0mtpf\u001b[0m\u001b[0;34m[\u001b[0m\u001b[0mepoch\u001b[0m\u001b[0;34m]\u001b[0m \u001b[0;34m-=\u001b[0m \u001b[0mself\u001b[0m\u001b[0;34m.\u001b[0m\u001b[0mtpf_flux_bkg\u001b[0m\u001b[0;34m[\u001b[0m\u001b[0mepoch\u001b[0m\u001b[0;34m]\u001b[0m\u001b[0;34m\u001b[0m\u001b[0m\n\u001b[0m\u001b[1;32m    425\u001b[0m \u001b[0;34m\u001b[0m\u001b[0m\n\u001b[1;32m    426\u001b[0m             \u001b[0mpc_stds\u001b[0m \u001b[0;34m=\u001b[0m \u001b[0mnp\u001b[0m\u001b[0;34m.\u001b[0m\u001b[0mones\u001b[0m\u001b[0;34m(\u001b[0m\u001b[0mlen\u001b[0m\u001b[0;34m(\u001b[0m\u001b[0mself\u001b[0m\u001b[0;34m.\u001b[0m\u001b[0mall_apertures\u001b[0m\u001b[0;34m)\u001b[0m\u001b[0;34m)\u001b[0m\u001b[0;34m\u001b[0m\u001b[0m\n",
      "\u001b[0;31mIndexError\u001b[0m: list index out of range"
     ]
    }
   ],
   "source": [
    "data = eleanor.TargetData(hv2112, height=15, bkg_size=31, crowded_field=True, width=15, do_psf=True, do_pca=True)"
   ]
  },
  {
   "cell_type": "code",
   "execution_count": 4,
   "metadata": {},
   "outputs": [
    {
     "data": {
      "text/plain": [
       "masked_array(\n",
       "  data=[[--, -0.07467415190819646, --, 0.14496961610677614, --,\n",
       "         -0.3015820518811279, -0.09527360199845175, --, --, --, --, --,\n",
       "         --, --, 0.11894401931776712],\n",
       "        [--, --, --, -0.24348745122689705, --, --, -0.22749431667504671,\n",
       "         -0.19193451672544853, --, --, --, --, --, --, --],\n",
       "        [--, --, --, --, -0.0897977478007271, --, --,\n",
       "         0.12924540455418174, --, --, --, -0.18185034623813653, --, --,\n",
       "         0.030684421195373235],\n",
       "        [--, --, -0.25379442873483093, 0.035918589659380336, --, --, --,\n",
       "         --, --, --, --, --, --, --, --],\n",
       "        [--, --, --, --, --, 0.147974230001906, --, --, --, --, --, --,\n",
       "         --, -0.0832095721454288, --],\n",
       "        [--, --, --, -0.32036639749415524, --, --, --,\n",
       "         -0.0335476792788153, --, --, --, --, --, --, --],\n",
       "        [--, --, --, -0.24503506244723874, --, --, -0.22427964244435183,\n",
       "         --, --, --, --, -0.1786842588775141, --, --, --],\n",
       "        [--, 0.03922250061081431, --, --, 0.14184101615546893,\n",
       "         0.06250268001966539, --, --, --, --, --, --, --, --, --],\n",
       "        [--, -0.09081400690398099, --, --, --, --, -0.10302826688618304,\n",
       "         --, -0.01875464782524159, --, -0.20108835612570233, --, --, --,\n",
       "         --],\n",
       "        [--, --, --, --, -0.08559352689410546, --, --, --, --, --, --,\n",
       "         --, --, --, --],\n",
       "        [--, -0.3171273539276348, --, --, 0.00211938252820192, --, --,\n",
       "         0.06160242040492988, --, --, --, --, 0.07906317971821708, --,\n",
       "         0.030706709582193643],\n",
       "        [-0.09125201773538258, -0.25221411364723334, --, --, --, --,\n",
       "         0.005332536384071591, --, --, --, --, --, --,\n",
       "         -0.08353995445733788, -0.047074597641828975],\n",
       "        [--, --, --, -0.10084389597421882, --, --, --, --, --, --, --,\n",
       "         --, --, --, --],\n",
       "        [--, --, --, --, --, --, --, --, --, --, --, --, --, --, --],\n",
       "        [--, --, --, --, --, --, --, --, --, --, --,\n",
       "         -0.09871074646548506, --, --, --]],\n",
       "  mask=[[ True, False,  True, False,  True, False, False,  True,  True,\n",
       "          True,  True,  True,  True,  True, False],\n",
       "        [ True,  True,  True, False,  True,  True, False, False,  True,\n",
       "          True,  True,  True,  True,  True,  True],\n",
       "        [ True,  True,  True,  True, False,  True,  True, False,  True,\n",
       "          True,  True, False,  True,  True, False],\n",
       "        [ True,  True, False, False,  True,  True,  True,  True,  True,\n",
       "          True,  True,  True,  True,  True,  True],\n",
       "        [ True,  True,  True,  True,  True, False,  True,  True,  True,\n",
       "          True,  True,  True,  True, False,  True],\n",
       "        [ True,  True,  True, False,  True,  True,  True, False,  True,\n",
       "          True,  True,  True,  True,  True,  True],\n",
       "        [ True,  True,  True, False,  True,  True, False,  True,  True,\n",
       "          True,  True, False,  True,  True,  True],\n",
       "        [ True, False,  True,  True, False, False,  True,  True,  True,\n",
       "          True,  True,  True,  True,  True,  True],\n",
       "        [ True, False,  True,  True,  True,  True, False,  True, False,\n",
       "          True, False,  True,  True,  True,  True],\n",
       "        [ True,  True,  True,  True, False,  True,  True,  True,  True,\n",
       "          True,  True,  True,  True,  True,  True],\n",
       "        [ True, False,  True,  True, False,  True,  True, False,  True,\n",
       "          True,  True,  True, False,  True, False],\n",
       "        [False, False,  True,  True,  True,  True, False,  True,  True,\n",
       "          True,  True,  True,  True, False, False],\n",
       "        [ True,  True,  True, False,  True,  True,  True,  True,  True,\n",
       "          True,  True,  True,  True,  True,  True],\n",
       "        [ True,  True,  True,  True,  True,  True,  True,  True,  True,\n",
       "          True,  True,  True,  True,  True,  True],\n",
       "        [ True,  True,  True,  True,  True,  True,  True,  True,  True,\n",
       "          True,  True, False,  True,  True,  True]],\n",
       "  fill_value=1e+20)"
      ]
     },
     "execution_count": 4,
     "metadata": {},
     "output_type": "execute_result"
    }
   ],
   "source": [
    "from astropy.stats import SigmaClip\n",
    "sigma = 1.2\n",
    "bkg_across_time = np.random.randn(15,15)\n",
    "sigma_clip = SigmaClip(sigma=sigma)\n",
    "sigma_mask = sigma_clip(bkg_across_time,)\n",
    "sigma_mask"
   ]
  },
  {
   "cell_type": "code",
   "execution_count": 1,
   "metadata": {},
   "outputs": [
    {
     "data": {
      "text/plain": [
       "'3.1.2'"
      ]
     },
     "execution_count": 1,
     "metadata": {},
     "output_type": "execute_result"
    }
   ],
   "source": [
    "import astropy\n",
    "astropy.__version__"
   ]
  },
  {
   "cell_type": "code",
   "execution_count": null,
   "metadata": {},
   "outputs": [],
   "source": []
  }
 ],
 "metadata": {
  "kernelspec": {
   "display_name": "Python [default]",
   "language": "python",
   "name": "python3"
  },
  "language_info": {
   "codemirror_mode": {
    "name": "ipython",
    "version": 3
   },
   "file_extension": ".py",
   "mimetype": "text/x-python",
   "name": "python",
   "nbconvert_exporter": "python",
   "pygments_lexer": "ipython3",
   "version": "3.5.6"
  }
 },
 "nbformat": 4,
 "nbformat_minor": 2
}
